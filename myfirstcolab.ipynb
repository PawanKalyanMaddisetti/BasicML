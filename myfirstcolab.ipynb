{
  "nbformat": 4,
  "nbformat_minor": 0,
  "metadata": {
    "colab": {
      "name": "myfirstcolab.ipynb",
      "provenance": [],
      "authorship_tag": "ABX9TyOtq5W/LKiaVyRSFRyNikGs",
      "include_colab_link": true
    },
    "kernelspec": {
      "name": "python3",
      "display_name": "Python 3"
    },
    "language_info": {
      "name": "python"
    }
  },
  "cells": [
    {
      "cell_type": "markdown",
      "metadata": {
        "id": "view-in-github",
        "colab_type": "text"
      },
      "source": [
        "<a href=\"https://colab.research.google.com/github/PawanKalyanMaddisetti/BasicML/blob/main/myfirstcolab.ipynb\" target=\"_parent\"><img src=\"https://colab.research.google.com/assets/colab-badge.svg\" alt=\"Open In Colab\"/></a>"
      ]
    },
    {
      "cell_type": "markdown",
      "metadata": {
        "id": "cmMtqH35F_Zw"
      },
      "source": [
        "**program for sum of squares of 1st n natural numbers:**"
      ]
    },
    {
      "cell_type": "code",
      "metadata": {
        "colab": {
          "base_uri": "https://localhost:8080/"
        },
        "id": "vOAHeJP9F52g",
        "outputId": "113ac092-c67c-4fae-c50a-ccb978913d5a"
      },
      "source": [
        "n=int(input())\n",
        "sum=0 \n",
        "for i in range(1,n+1):\n",
        "  sum=sum+i*i \n",
        "print(sum) "
      ],
      "execution_count": 1,
      "outputs": [
        {
          "output_type": "stream",
          "name": "stdout",
          "text": [
            "4\n",
            "30\n"
          ]
        }
      ]
    },
    {
      "cell_type": "markdown",
      "metadata": {
        "id": "PQuMVf5dG4Or"
      },
      "source": [
        "**python program for power (x,n):**"
      ]
    },
    {
      "cell_type": "code",
      "metadata": {
        "colab": {
          "base_uri": "https://localhost:8080/"
        },
        "id": "HXvP1tTzG4fi",
        "outputId": "a603d64b-c003-419f-ec38-f35ec975cff1"
      },
      "source": [
        "def power(x,n):\n",
        "  if x==0 or n==0:\n",
        "    if x==0:\n",
        "      return 0\n",
        "    else: return 1\n",
        "  else: return x*power(x,n-1) \n",
        "x=int(input())\n",
        "n=int(input())\n",
        "print(power(x,n)) \n"
      ],
      "execution_count": 2,
      "outputs": [
        {
          "output_type": "stream",
          "name": "stdout",
          "text": [
            "4\n",
            "5\n",
            "1024\n"
          ]
        }
      ]
    },
    {
      "cell_type": "markdown",
      "metadata": {
        "id": "1Q21FdCDG4up"
      },
      "source": [
        "**python program for sum of 1st n natural numbers:**"
      ]
    },
    {
      "cell_type": "code",
      "metadata": {
        "colab": {
          "base_uri": "https://localhost:8080/"
        },
        "id": "SYp9DAXcG4-S",
        "outputId": "84fd50b2-7922-458a-f631-ec256b24775f"
      },
      "source": [
        "n=int(input()) \n",
        "sum=0 \n",
        "for i in range(1,n+1):\n",
        "  sum=sum+i \n",
        "print(sum) \n"
      ],
      "execution_count": 3,
      "outputs": [
        {
          "output_type": "stream",
          "name": "stdout",
          "text": [
            "10\n",
            "55\n"
          ]
        }
      ]
    }
  ]
}